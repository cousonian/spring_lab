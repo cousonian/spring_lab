{
 "cells": [
  {
   "cell_type": "code",
   "execution_count": 44,
   "metadata": {},
   "outputs": [],
   "source": [
    "import numpy as np\n",
    "import matplotlib as plt\n",
    "\n",
    "#Rules:\n",
    "\n",
    "def rule1(dA,c):\n",
    "    return c*dA\n",
    "\n",
    "def rule2(A,dA,m,c):\n",
    "    return c*m*(A**(m-1))*dA\n",
    "\n",
    "def rule3(dA,dB):\n",
    "    dQ = np.sqrt(dA**2 + dB**2)\n",
    "    return dQ\n",
    "\n",
    "def rule4(Q,A,dA,m,B,dB,n):\n",
    "    s = ((m*dA/A)**2)+((n*dB/B)**2)\n",
    "    return Q*np.sqrt(s)\n",
    "\n",
    "\n"
   ]
  },
  {
   "cell_type": "code",
   "execution_count": 76,
   "metadata": {},
   "outputs": [],
   "source": [
    "#Values in kg and m\n",
    "\n",
    "#mass of weight\n",
    "mw=6.355\n",
    "err_mw=.001\n",
    "g= 9.81\n",
    "#Total turns\n",
    "N=341\n",
    "#cylinder measurements\n",
    "m_cyl=.2030\n",
    "m_cyl_err=.0001\n",
    "cyl_diam= .04785\n",
    "diam_err= .00005\n",
    "\n",
    "#temp\n",
    "resist_initial=173100\n",
    "resist_final=78500\n",
    "T1_initial=13.48\n",
    "T1_final=30.05\n",
    "delta_T=(T1_final-T1_initial)\n",
    "T_err=0.3\n",
    "#Specific heat of aluminum\n",
    "ca=214\n",
    "\n",
    "theta= 2*np.pi*N\n",
    "R=cyl_diam*.5\n",
    "R_err = rule1(diam_err,.5)\n",
    "\n",
    "torque= mw*g*R\n"
   ]
  },
  {
   "cell_type": "code",
   "execution_count": 77,
   "metadata": {},
   "outputs": [
    {
     "name": "stdout",
     "output_type": "stream",
     "text": [
      "3195.7349775185858\n",
      "719.83394\n",
      "4.439544733773717\n"
     ]
    }
   ],
   "source": [
    "W=torque*theta\n",
    "Q=m_cyl*ca*delta_T\n",
    "\n",
    "print(W)\n",
    "print(Q)\n",
    "print(W/Q)"
   ]
  },
  {
   "cell_type": "code",
   "execution_count": 78,
   "metadata": {},
   "outputs": [],
   "source": [
    "W_err=rule4(W,mw,err_mw,1,R,R_err,1)\n",
    "T2_err=rule3(T_err,T_err)\n",
    "Q_err=rule4(Q,m_cyl,m_cyl_err,1,delta_T,T2_err,1)"
   ]
  },
  {
   "cell_type": "code",
   "execution_count": 79,
   "metadata": {},
   "outputs": [
    {
     "name": "stdout",
     "output_type": "stream",
     "text": [
      "3.376977306267286\n",
      "18.43429047350627\n"
     ]
    }
   ],
   "source": [
    "print(W_err)\n",
    "print(Q_err)"
   ]
  },
  {
   "cell_type": "code",
   "execution_count": 80,
   "metadata": {},
   "outputs": [],
   "source": [
    "J=W/Q\n",
    "J_err=rule4(J,W,W_err,1,Q,Q_err,-1)"
   ]
  },
  {
   "cell_type": "code",
   "execution_count": 81,
   "metadata": {},
   "outputs": [
    {
     "name": "stdout",
     "output_type": "stream",
     "text": [
      "4.439544733773717\n",
      "0.11378943880546623\n"
     ]
    }
   ],
   "source": [
    "print(J)\n",
    "print(J_err)"
   ]
  },
  {
   "cell_type": "code",
   "execution_count": null,
   "metadata": {},
   "outputs": [],
   "source": []
  }
 ],
 "metadata": {
  "kernelspec": {
   "display_name": "Python 3",
   "language": "python",
   "name": "python3"
  },
  "language_info": {
   "codemirror_mode": {
    "name": "ipython",
    "version": 3
   },
   "file_extension": ".py",
   "mimetype": "text/x-python",
   "name": "python",
   "nbconvert_exporter": "python",
   "pygments_lexer": "ipython3",
   "version": "3.8.5"
  }
 },
 "nbformat": 4,
 "nbformat_minor": 4
}
