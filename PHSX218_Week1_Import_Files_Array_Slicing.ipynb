{
 "cells": [
  {
   "cell_type": "markdown",
   "metadata": {
    "id": "pcu0peoDBQyG"
   },
   "source": [
    "## Importing files using numpy's genfromtxt() and how to index and slice arrays"
   ]
  },
  {
   "cell_type": "markdown",
   "metadata": {
    "id": "1ei3mFUgBQyL"
   },
   "source": [
    "This week we'll learn how to import files which is very handy if you have large data sets.  It's even handy if you don't want have to type in all of your data by hand if you've done your data taking in a text file for example.\n",
    "Once the data is imported into an array (generally a 2D array), we'll learn how to grab the data we want to assign to our x and y variables for plotting.\n",
    "\n",
    "Everyone download and open up the PHSX218_Week1 Jupyter notebook from Moodle or a Google Colab so that you can be ready to do some array work here in a bit."
   ]
  },
  {
   "cell_type": "code",
   "execution_count": 1,
   "metadata": {
    "colab": {
     "base_uri": "https://localhost:8080/"
    },
    "id": "vepT2LCiBQyM",
    "outputId": "c70bc14a-4270-46fb-9dcd-aa8f84cdffff"
   },
   "outputs": [
    {
     "name": "stdout",
     "output_type": "stream",
     "text": [
      "2\n",
      "[1 2]\n"
     ]
    }
   ],
   "source": [
    "import numpy as np\n",
    "import matplotlib.pyplot as plt\n",
    "\n",
    "#Create a couple simple arrays\n",
    "#1D array\n",
    "arr1 = np.array([2,4,5,6,8])\n",
    "#2D array\n",
    "arr2 = np.array([[1,2],[2,3],[6,8],[7,9]])\n",
    "\n",
    "#Draw on board to show 2D array and indices [row,col]\n",
    "\n",
    "#Indexing starts at 0, so the first element in an array is the zeroth\n",
    "\n",
    "print(arr1[0])\n",
    "print(arr2[0])"
   ]
  },
  {
   "cell_type": "markdown",
   "metadata": {
    "id": "yvFy75gYBQyM"
   },
   "source": [
    "Slicing means to grab portions of the array based on what you need.\n",
    "\n",
    "1. a[start:stop]  # items start through stop-1\n",
    "2. a[start:]      # items start through the rest of the array\n",
    "3. a[:stop]       # items from the beginning through stop-1\n",
    "4. a[:]           # a copy of the whole array\n",
    "\n",
    "\n",
    "The key point to remember is that the :stop value represents the first value that is not in the selected slice. So, the difference between stop and start is the number of elements selected.\n",
    "\n",
    "We will not be covering \"advanced\" slicing techniques"
   ]
  },
  {
   "cell_type": "code",
   "execution_count": 2,
   "metadata": {
    "id": "cFgdJgT2BQyN"
   },
   "outputs": [
    {
     "name": "stdout",
     "output_type": "stream",
     "text": [
      "[2 4 5]\n",
      "[[2 3]\n",
      " [6 8]]\n"
     ]
    }
   ],
   "source": [
    "x = arr1[0:3]\n",
    "print(x)\n",
    "y = arr2[1:3]\n",
    "print (y)"
   ]
  },
  {
   "cell_type": "code",
   "execution_count": 3,
   "metadata": {
    "id": "l26LIOWTBQyN"
   },
   "outputs": [
    {
     "data": {
      "text/plain": [
       "array([2, 3])"
      ]
     },
     "execution_count": 3,
     "metadata": {},
     "output_type": "execute_result"
    }
   ],
   "source": [
    "#We don't have to use print statements or assign to variables if \n",
    "#we just want to look at some slices\n",
    "arr2[1]"
   ]
  },
  {
   "cell_type": "code",
   "execution_count": 4,
   "metadata": {
    "id": "SCOg1DFqBQyN"
   },
   "outputs": [
    {
     "data": {
      "text/plain": [
       "array([[1, 2],\n",
       "       [2, 3],\n",
       "       [6, 8]])"
      ]
     },
     "execution_count": 4,
     "metadata": {},
     "output_type": "execute_result"
    }
   ],
   "source": [
    "arr2[:3]"
   ]
  },
  {
   "cell_type": "markdown",
   "metadata": {
    "id": "Mg20wr1YBQyN"
   },
   "source": [
    "In a 2D array, the indices are [row,col]  Let's look at my drawing on the whiteboard."
   ]
  },
  {
   "cell_type": "markdown",
   "metadata": {
    "id": "12XMzxDhBQyO"
   },
   "source": [
    "So then if we want to grab the entire first column of data, we can do the following:"
   ]
  },
  {
   "cell_type": "code",
   "execution_count": 5,
   "metadata": {
    "id": "uOJF59vRBQyO"
   },
   "outputs": [
    {
     "name": "stdout",
     "output_type": "stream",
     "text": [
      "[1 2 6 7]\n"
     ]
    }
   ],
   "source": [
    "x = arr2[:,0] #: for all the rows, and 0 for the zeroth column only\n",
    "print (x)"
   ]
  },
  {
   "cell_type": "markdown",
   "metadata": {
    "id": "_9xUruzIBQyO"
   },
   "source": [
    "### Head to the breakout rooms for about 5 minutes to work on the following and then we'll come back \n",
    "1. With the 2D array, assign the first column of data to a variable x, and assign the second column of data to a variable y. Print out your results\n",
    "2. With the 2D array, assign the first two rows of the first column of data to a variable z and print out result. (your result should be [1,2])"
   ]
  },
  {
   "cell_type": "code",
   "execution_count": 15,
   "metadata": {
    "id": "s2sw8uQ1BQyO"
   },
   "outputs": [
    {
     "name": "stdout",
     "output_type": "stream",
     "text": [
      "[1 2 6 7]\n",
      "[2 3 8 9]\n",
      "[1 2]\n"
     ]
    }
   ],
   "source": [
    "#Part1\n",
    "x = arr2[:,0]\n",
    "y = arr2[:,1]\n",
    "print(x)\n",
    "print(y)\n",
    "\n",
    "#Part2\n",
    "z = arr2[0:2,0]\n",
    "print(z)"
   ]
  },
  {
   "cell_type": "markdown",
   "metadata": {
    "id": "jzKExNRQBQyP"
   },
   "source": [
    "#### Let's look at importing data files and doing some plotting and analysis.  To do this we'll use Numpy's genfromtxt function.  There are a lot of options available with genfromtxt as shown in the API (Application Progamming Interface) below, which can make it seem really confusing at first, so we're going to keep it simple!"
   ]
  },
  {
   "cell_type": "markdown",
   "metadata": {
    "id": "DhrswJ7rBQyP"
   },
   "source": [
    "numpy.genfromtxt(fname, dtype=<class 'float'>, comments='#', delimiter=None, skip_header=0, skip_footer=0, converters=None, missing_values=None, filling_values=None, usecols=None, names=None, excludelist=None, deletechars=\" !#$%&'()*+, -./:;<=>?@[]^{|}~\", replace_space='_', autostrip=False, case_sensitive=True, defaultfmt='f%i', unpack=None, usemask=False, loose=True, invalid_raise=True, max_rows=None, encoding='bytes')"
   ]
  },
  {
   "cell_type": "markdown",
   "metadata": {
    "id": "nrhx2myiBQyP"
   },
   "source": [
    "Satellites in low Earth orbit (LEO) operate between 250 and 1500 km above the ground. Because Earth's atmosphere extends hundreds of miles into space, LEOs eventually experience enough friction that they fall back to Earth and burn up. The accompanying text files gives the number of low Earth orbit satellites that reentered the Earth's atmosphere and the number of sunspots for each year since 1969. Graph the number of reentered satellites vs. the number of sunspots. Source: NASA Goddard Space Flight Center.\n",
    "\n",
    "\n",
    "Look first at satellite-failures.txt file.  "
   ]
  },
  {
   "cell_type": "code",
   "execution_count": 25,
   "metadata": {
    "colab": {
     "base_uri": "https://localhost:8080/",
     "height": 208
    },
    "id": "SKNiF0TEBQyQ",
    "outputId": "50a8b801-1030-4830-835f-b2e00ffbdb04"
   },
   "outputs": [
    {
     "name": "stdout",
     "output_type": "stream",
     "text": [
      "[[105.  26.]\n",
      " [107.  25.]\n",
      " [ 66.  19.]\n",
      " [ 67.  12.]\n",
      " [ 37.  14.]\n",
      " [ 32.  21.]\n",
      " [ 14.  15.]\n",
      " [ 12.  16.]\n",
      " [ 26.  18.]\n",
      " [ 87.  33.]\n",
      " [145.  42.]\n",
      " [149.  41.]\n",
      " [146.  32.]\n",
      " [115.  19.]\n",
      " [ 65.  28.]\n",
      " [ 43.  14.]\n",
      " [ 16.  17.]\n",
      " [ 11.  16.]\n",
      " [ 29.  13.]\n",
      " [101.  33.]\n",
      " [162.  45.]\n",
      " [145.  30.]\n",
      " [144.  40.]\n",
      " [ 93.  41.]\n",
      " [ 54.  28.]\n",
      " [ 31.  17.]\n",
      " [ 18.  20.]\n",
      " [  8.  22.]\n",
      " [ 20.  21.]\n",
      " [ 62.  30.]\n",
      " [ 96.  25.]\n",
      " [124.  37.]\n",
      " [123.  41.]\n",
      " [109.  38.]\n",
      " [ 66.  31.]\n",
      " [ 43.  19.]]\n"
     ]
    }
   ],
   "source": [
    "file=\"satellite-failures.txt\"\n",
    "data = np.genfromtxt(file,skip_header=1,usecols=(1,2))\n",
    "print(data)"
   ]
  },
  {
   "cell_type": "code",
   "execution_count": 26,
   "metadata": {
    "id": "bW6TPMmzBQyQ"
   },
   "outputs": [
    {
     "name": "stdout",
     "output_type": "stream",
     "text": [
      "(36, 2)\n"
     ]
    }
   ],
   "source": [
    "# how big is the array?  (rows,cols) will be returned\n",
    "print (data.shape)\n",
    "\n",
    "#I want to select every row (:), but only those\n",
    "#whose second index is 0. This gives us the first column\n",
    "sunspots = data[:,0]\n",
    "\n",
    "#I want to select every row, but only the second thing in each\n",
    "#row, giving us our satellites data\n",
    "satellites = data[:,1]\n",
    "\n",
    "#print (sunspots)\n",
    "#print (satellites)\n",
    "\n"
   ]
  },
  {
   "cell_type": "code",
   "execution_count": 27,
   "metadata": {
    "id": "Npcw_A4aBQyQ"
   },
   "outputs": [
    {
     "name": "stdout",
     "output_type": "stream",
     "text": [
      "13.952004077267041 0.1635072456826606\n"
     ]
    },
    {
     "data": {
      "text/plain": [
       "[<matplotlib.lines.Line2D at 0x2909b524e80>]"
      ]
     },
     "execution_count": 27,
     "metadata": {},
     "output_type": "execute_result"
    },
    {
     "data": {
      "image/png": "[encoded data removed]",
      "text/plain": [
       "<Figure size 432x288 with 1 Axes>"
      ]
     },
     "metadata": {
      "needs_background": "light"
     },
     "output_type": "display_data"
    }
   ],
   "source": [
    "intercept, slope = np.polynomial.polynomial.polyfit(sunspots,satellites,1)\n",
    "\n",
    "print(intercept,slope)\n",
    "\n",
    "#create best fit line's x and y points\n",
    "x = np.linspace(0,160)\n",
    "\n",
    "#best fit line\n",
    "y = slope*x + intercept\n",
    "\n",
    "plt.xlabel(\"# of Sunspots in a year\")\n",
    "plt.ylabel(\"# of Satellites re-entering in a year\")\n",
    "plt.title(\"Satellites burning up vs sunspot count\")\n",
    "plt.scatter(sunspots,satellites,color=\"purple\")\n",
    "plt.plot(x,y)"
   ]
  },
  {
   "cell_type": "markdown",
   "metadata": {
    "id": "S-rtDqIGBQyQ"
   },
   "source": [
    "### Predict how many satellites would burn up if there were 400 sunspots in a year."
   ]
  },
  {
   "cell_type": "code",
   "execution_count": 36,
   "metadata": {
    "id": "k7_QeKAqBQyQ"
   },
   "outputs": [
    {
     "name": "stdout",
     "output_type": "stream",
     "text": [
      "79.35490235033129\n"
     ]
    }
   ],
   "source": [
    "p = slope*400+intercept\n",
    "print(p)"
   ]
  },
  {
   "cell_type": "markdown",
   "metadata": {
    "id": "YRCOOXpGBQyR"
   },
   "source": [
    "### Lab Assignment\n",
    "Mauna Loa Observatory on the \"Big Island\" of Hawaii has been recording atmospheric carbon dioxide concentrations for nearly half a century beginning in the year 1958. Readings are taken continuously, but only the monthly averages are reported. Values are reported in parts per million (ppm) Construct a graph of atmospheric CO2 concentration vs. time. What two obvious behaviors are revealed in your graph? Split the data set in half, make two plots and perform a linear regression analysis on the data for the years… 1958-1987 and 1988-2017. Compare the behavior of CO2 levels in the first half of the data set to the second half. If the rate of CO2 concentration(ppm)/year continues as it has in the 1988-2017 range, what would the CO2 concentration(ppm) be in 2040?\n",
    "\n",
    "Source: Scripps Institution of Oceanography\n",
    "\n",
    "Use the co2-mauna-loa.txt file from Moodle.\n",
    "\n",
    "For the Moodle quiz, there are a few questions related to the review topics, and then you'll submit a github link for your notebook. "
   ]
  },
  {
   "cell_type": "code",
   "execution_count": 90,
   "metadata": {
    "id": "151JEbrbBQyR"
   },
   "outputs": [
    {
     "name": "stdout",
     "output_type": "stream",
     "text": [
      "1.17650160554613 -1991.4838928050788\n"
     ]
    }
   ],
   "source": [
    "file=\"co2-mauna-loa.txt\"\n",
    "data = np.genfromtxt(file,skip_header=2,usecols=(0,1))\n",
    "\n",
    "\n",
    "pre88=data[:358,:]\n",
    "years_1= pre88[:,0]\n",
    "co2_1=pre88[:,1]\n",
    "intercept1, slope1 = np.polynomial.polynomial.polyfit(years_1,co2_1,1)\n",
    "print(slope1,intercept1)"
   ]
  },
  {
   "cell_type": "code",
   "execution_count": 93,
   "metadata": {},
   "outputs": [
    {
     "data": {
      "text/plain": [
       "[<matplotlib.lines.Line2D at 0x2909cc9f940>]"
      ]
     },
     "execution_count": 93,
     "metadata": {},
     "output_type": "execute_result"
    },
    {
     "data": {
      "image/png": "[encoded data removed]",
      "text/plain": [
       "<Figure size 432x288 with 1 Axes>"
      ]
     },
     "metadata": {
      "needs_background": "light"
     },
     "output_type": "display_data"
    }
   ],
   "source": [
    "x1=np.linspace(1958,1988)\n",
    "\n",
    "y1= slope1*x1 + intercept1\n",
    "plt.xlabel(\"year\")\n",
    "plt.ylabel(\"Co2 levels\")\n",
    "plt.title(\" atmospheric carbon dioxide concentrations\")\n",
    "plt.scatter(years_1,co2_1,color=\"yellow\")\n",
    "plt.plot(x1,y1)"
   ]
  },
  {
   "cell_type": "code",
   "execution_count": 94,
   "metadata": {},
   "outputs": [],
   "source": [
    "post88=data[358:,:]\n",
    "years_2= post88[:,0]\n",
    "co2_2=post88[:,1]\n",
    "intercept2, slope2 = np.polynomial.polynomial.polyfit(years_2,co2_2,1)\n"
   ]
  },
  {
   "cell_type": "code",
   "execution_count": 95,
   "metadata": {},
   "outputs": [
    {
     "name": "stdout",
     "output_type": "stream",
     "text": [
      "1.8954148388794612\n"
     ]
    },
    {
     "data": {
      "image/png": "[encoded data removed]",
      "text/plain": [
       "<Figure size 432x288 with 1 Axes>"
      ]
     },
     "metadata": {
      "needs_background": "light"
     },
     "output_type": "display_data"
    }
   ],
   "source": [
    "x2=np.linspace(1988,2018)\n",
    "\n",
    "y2 = slope2*x + intercept2\n",
    "\n",
    "plt.xlabel(\"year\")\n",
    "plt.ylabel(\"Co2 levels\")\n",
    "plt.title(\" atmospheric carbon dioxide concentrations\")\n",
    "plt.scatter(years_2,co2_2,color=\"yellow\")\n",
    "plt.plot(x2,y2)\n",
    "print(slope2)"
   ]
  },
  {
   "cell_type": "code",
   "execution_count": 96,
   "metadata": {},
   "outputs": [
    {
     "data": {
      "text/plain": [
       "0.7189132333333312"
      ]
     },
     "execution_count": 96,
     "metadata": {},
     "output_type": "execute_result"
    }
   ],
   "source": [
    "slope2-slope1"
   ]
  },
  {
   "cell_type": "markdown",
   "metadata": {},
   "source": []
  }
 ],
 "metadata": {
  "colab": {
   "name": "PHSX218_Week1_Import_Files_Array_Slicing.ipynb",
   "provenance": []
  },
  "kernelspec": {
   "display_name": "Python 3",
   "language": "python",
   "name": "python3"
  },
  "language_info": {
   "codemirror_mode": {
    "name": "ipython",
    "version": 3
   },
   "file_extension": ".py",
   "mimetype": "text/x-python",
   "name": "python",
   "nbconvert_exporter": "python",
   "pygments_lexer": "ipython3",
   "version": "3.8.3"
  }
 },
 "nbformat": 4,
 "nbformat_minor": 1
}
