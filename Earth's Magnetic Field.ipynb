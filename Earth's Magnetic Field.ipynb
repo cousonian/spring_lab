{
 "cells": [
  {
   "cell_type": "code",
   "execution_count": 128,
   "metadata": {},
   "outputs": [],
   "source": [
    "import numpy as np\n",
    "import matplotlib.pyplot as plt\n",
    "from __future__ import division\n",
    "\n",
    "#_________Rules_______________:\n",
    "#R1   Q=cA\n",
    "def rule1(dA,c):\n",
    "    return c*dA\n",
    "#R2   Q=cA^m\n",
    "def rule2(A,dA,m,c):\n",
    "    return c*m*(A**(m-1))*dA\n",
    "#R3   Q=A+B or A-B\n",
    "def rule3(dA,dB):\n",
    "    dQ = np.sqrt(dA**2 + dB**2)\n",
    "    return dQ\n",
    "#R4   Q=cA^mB^n\n",
    "def rule4(Q,A,dA,m,B,dB,n):\n",
    "    s = ((m*dA/A)**2)+((n*dB/B)**2)\n",
    "    return Q*np.sqrt(s)\n",
    "#R4+  Q=cA^mB^nC^o\n",
    "def rule4plus(Q,A,dA,m,B,dB,n,C,dC,o):\n",
    "    s = ((m*dA/A)**2)+((n*dB/B)**2)+((o*dC/C)**2)\n",
    "    return Q*np.sqrt(s)"
   ]
  },
  {
   "cell_type": "code",
   "execution_count": 129,
   "metadata": {},
   "outputs": [],
   "source": [
    "\n",
    "#goodness of fit parameter\n",
    "def LLSFD2(x,y,dy,b,m):\n",
    "    N = sum(((y-b-m*x)/dy)**2)\n",
    "    return N\n",
    "                      \n",
    "def Delta(x, dy):\n",
    "    D = (sum(1/dy**2))*(sum(x**2/dy**2))-(sum(x/dy**2))**2\n",
    "    return D\n",
    "\n",
    "\n",
    "def plotfit(x,y,dy,title,xlabel,ylabel,slopeunit,color1,color2,mark,style):\n",
    "    \n",
    "    b,m=np.polynomial.polynomial.polyfit(x,y,1,w=dy);fit = b+m*x; N = LLSFD2(x,y,dy,b,m);D=Delta(x, dy)\n",
    "    dm = np.sqrt(1/D*sum(1/dy**2)); db = np.sqrt(1/D*sum(x**2/dy**2)) #errors in slope and intercept\n",
    "    plt.scatter(x, y, color=color1, marker=mark)\n",
    "    #Plot least squares fit line\n",
    "    plt.plot(x, fit, color=color2, linestyle=style)\n",
    "\n",
    "    #Plot y error bars - do not need to modify\n",
    "    plt.errorbar(x, y, yerr=dy, xerr=None, fmt=\"none\")\n",
    "\n",
    "    #Write x and y axes labels, title.  Modify these!\n",
    "    plt.xlabel(xlabel); plt.ylabel(ylabel); plt.title(title) #Labels\n",
    "    print(\"Slope = \",m,\" \",slopeunit); print(\"Error in slope = \",dm,\" \",slopeunit); print(\"Goodness of fit = \", N)\n",
    "    \n",
    "        "
   ]
  },
  {
   "cell_type": "markdown",
   "metadata": {},
   "source": [
    "$ B_{E,hor} = \\frac{B_c,hor}{tan\\theta_def } $\n",
    "\n",
    "\n",
    "$ B_{E,hor} = \\frac{ \\mu_0 I N }{2r tan\\theta_def } $"
   ]
  },
  {
   "cell_type": "code",
   "execution_count": 130,
   "metadata": {
    "scrolled": true
   },
   "outputs": [
    {
     "name": "stdout",
     "output_type": "stream",
     "text": [
      "Slope =  -0.031400958614610834   A/degree\n",
      "Error in slope =  8.734934292143138e-05   A/degree\n",
      "Goodness of fit =  133.19483257350993\n",
      "Slope =  -0.01601406836603072   A/degree\n",
      "Error in slope =  8.734934292143138e-05   A/degree\n",
      "Goodness of fit =  92.93110189064586\n"
     ]
    },
    {
     "data": {
      "image/png": "[encoded data removed]",
      "text/plain": [
       "<Figure size 432x288 with 1 Axes>"
      ]
     },
     "metadata": {
      "needs_background": "light"
     },
     "output_type": "display_data"
    }
   ],
   "source": [
    "##########Data\n",
    "\n",
    "#measured/accepted\n",
    "#Earths horrizontal component according to NCEI\n",
    "Bh_accepted= 18423.5*(10**-9) #e-9(nano tesla)\n",
    "\n",
    "#function for calculating Bh\n",
    "mu=4*np.pi*(10**-7)\n",
    "def bh(m,N):\n",
    "    return m*(mu*N/(2*r))\n",
    "\n",
    "#Measurements and uncertainties\n",
    "diam= 21.7 #cm\n",
    "ddiam= .5*.01 #cm\n",
    "\n",
    "r=diam*.5*.01\n",
    "dr=rule1(ddiam,.5)\n",
    "\n",
    "#N--100\n",
    "I1 = np.array([37.0,25.9,17.44,10.22,5.27,-5.28,-10.66,-17.4,-27.1,-39.0])*.001#mA\n",
    "theta=np.array([-50,-40,-30,-20,-10,10,20,30,40,50])\n",
    "\n",
    "thetaR= np.deg2rad(theta)\n",
    "tan1=np.tan(thetaR)\n",
    "\n",
    "errI = np.ones(len(I1))*.0002\n",
    "plotfit(tan1,I1,errI,'For N=100','tan$\\\\theta$','Current in A','A/degree','blue','green','o','--')\n",
    "\n",
    "\n",
    "\n",
    "#For N = 200\n",
    "I2 = np.array([17.8,13.12,8.86,4.97,2.04,-2.70,-5.95,-9.21,-13.66,-21.0])*.001\n",
    "theta2 = np.array([-50,-40,-30,-20,-10,10,20,30,40,50])\n",
    "thetaR2= np.deg2rad(theta2)\n",
    "tan2=np.tan(thetaR2)\n",
    "errI2 = np.ones(len(I1))*.0002\n",
    "plotfit(tan2,I2,errI2,'For N=100 and N=200','tan$\\\\theta$','Current in A','A/degree','red','orange','o','--')\n",
    "plt.legend(['N=100','N=200'])\n",
    "plt.savefig('GraphMagField')\n",
    "plt.show()"
   ]
  },
  {
   "cell_type": "code",
   "execution_count": 131,
   "metadata": {},
   "outputs": [
    {
     "name": "stdout",
     "output_type": "stream",
     "text": [
      "-1.8183596188519724e-05\n",
      "-1.8531053440529656e-05\n",
      "1.84235e-05\n"
     ]
    }
   ],
   "source": [
    "#Experimental values of Bh for N=100\n",
    "m1=-0.0314\n",
    "Bh1=bh(m1,100)\n",
    "print(Bh1)\n",
    "m2=-0.016\n",
    "Bh2=bh(m2,200)\n",
    "print(Bh2)\n",
    "\n",
    "print(Bh_accepted)\n"
   ]
  },
  {
   "cell_type": "code",
   "execution_count": 132,
   "metadata": {},
   "outputs": [
    {
     "name": "stdout",
     "output_type": "stream",
     "text": [
      "-4.2201931132466265e-07 -4.3880409492033313e-07\n"
     ]
    }
   ],
   "source": [
    "#errors\n",
    "\n",
    "eBh1=rule4(Bh1,-0.0314,8.7349e-5,1,r,dr,-1)\n",
    "eBh2=rule4(Bh2,-0.0160,8.7349e-5,1,r,dr,-1)\n",
    "\n",
    "print(eBh1,eBh2)"
   ]
  },
  {
   "cell_type": "code",
   "execution_count": null,
   "metadata": {},
   "outputs": [],
   "source": []
  }
 ],
 "metadata": {
  "kernelspec": {
   "display_name": "Python 3",
   "language": "python",
   "name": "python3"
  },
  "language_info": {
   "codemirror_mode": {
    "name": "ipython",
    "version": 3
   },
   "file_extension": ".py",
   "mimetype": "text/x-python",
   "name": "python",
   "nbconvert_exporter": "python",
   "pygments_lexer": "ipython3",
   "version": "3.8.5"
  }
 },
 "nbformat": 4,
 "nbformat_minor": 2
}
