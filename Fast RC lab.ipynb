{
 "cells": [
  {
   "cell_type": "code",
   "execution_count": 1,
   "metadata": {},
   "outputs": [],
   "source": [
    "import numpy as np\n",
    "import matplotlib as plt\n",
    "#Rules:\n",
    "\n",
    "#Q=cA\n",
    "def rule1(dA,c):\n",
    "    return c*dA\n",
    "\n",
    "#Q=cA^m\n",
    "def rule2(A,dA,m,c):\n",
    "    return c*m*(A**(m-1))*dA\n",
    "\n",
    "#Q=A+B or A-B\n",
    "def rule3(dA,dB):\n",
    "    dQ = np.sqrt(dA**2 + dB**2)\n",
    "    return dQ\n",
    "\n",
    "#Q=cA^mB^n\n",
    "def rule4(Q,A,dA,m,B,dB,n):\n",
    "    s = ((m*dA/A)**2)+((n*dB/B)**2)\n",
    "    return Q*np.sqrt(s)\n",
    "\n",
    "#Q=cA^mB^nC^o\n",
    "def rule4plus(Q,A,dA,m,B,dB,n,C,dC,o):\n",
    "    s = ((m*dA/A)**2)+((n*dB/B)**2)+((o*dC/C)**2)\n",
    "    return Q*np.sqrt(s)\n"
   ]
  },
  {
   "cell_type": "markdown",
   "metadata": {},
   "source": [
    "$Fast RC Lab$"
   ]
  },
  {
   "cell_type": "code",
   "execution_count": 2,
   "metadata": {},
   "outputs": [
    {
     "name": "stdout",
     "output_type": "stream",
     "text": [
      "Tau1 Accepted: 0.104±0.001 ms, Tau2 Accepted:0.053±0.001 ms,Tau3 Accepted:0.210±0.001 ms.\n",
      "0.31090500000000004\n",
      "Tau1 experimental: 0.120±0.003 ms, Tau2 experimental:0.068±0.003 ms ,Tau3 experimental:0.231±0.003 ms .\n"
     ]
    }
   ],
   "source": [
    "#Data collection\n",
    "#----direct measurements------#\n",
    "mC1= 10.5#nano F\n",
    "mC2= 10.8\n",
    "mR1= 9.87 #k ohm \n",
    "\n",
    "#----------errors------------#\n",
    "dC= .1 #nano farad\n",
    "dR= 0.01 # kohm\n",
    "dthalf=0.002 #ms\n",
    "\n",
    "\n",
    "#----Accepted values----#\n",
    "nano=1e-9\n",
    "m=1e-3\n",
    "k=1e3\n",
    "R=mR1*k\n",
    "C1=mC1*nano\n",
    "C2=mC2*nano\n",
    "CS=(C1**-1+C2**-1)**-1\n",
    "CP=C1+C2\n",
    "CP3=C1*3\n",
    "\n",
    "#multiplying by k to adjust value to ms for readability \n",
    "tau1C=R*C1*k\n",
    "dt1=rule4(tau1C,R,dR*k,1,C1,dC*nano,1)\n",
    "tauCS=R*CS*k\n",
    "dt2=rule4(tauCS,R,dR*k,1,CS,dC*nano,1)\n",
    "tauCP=R*CP*k\n",
    "dt3=rule4(tauCP,R,dR*k,1,CP,dC*nano,1)\n",
    "print(r'Tau1 Accepted: {0:.3f}±{3:.3f} ms, Tau2 Accepted:{1:.3f}±{4:.3f} ms,Tau3 Accepted:{2:.3f}±{5:.3f} ms.'.format(tau1C,tauCS,tauCP,dt1,dt2,dt3))\n",
    "\n",
    "\n",
    "#========Oscilliscope measurements=======#\n",
    "#experimental tau script\n",
    "def etau(thalf):\n",
    "    return thalf/np.log(2)\n",
    "#1----1 resistor 1 capacitor(mC1)---------#\n",
    "thalf1=0.083  #ms\n",
    "tau1=etau(thalf1)\n",
    "dtau=etau(dthalf)\n",
    "#2----1 resistor 2 capacitor in series----#\n",
    "thalf2=0.047 #ms\n",
    "tau2=etau(thalf2)\n",
    "#3----1 resistor 2 capacitor in parallel--#\n",
    "thalf3=0.16  #ms\n",
    "tau3=etau(thalf3)\n",
    "\n",
    "#conceptual for 3 capacitors in parallel\n",
    "tauCP3=R*CP3*k\n",
    "\n",
    "print(tauCP3)\n",
    "#========Results=========#\n",
    "print('Tau1 experimental: {0:.3f}±{3:.3f} ms, Tau2 experimental:{1:.3f}±{3:.3f} ms ,\\\n",
    "Tau3 experimental:{2:.3f}±{3:.3f} ms .'.format(tau1,tau2,tau3,dtau))\n"
   ]
  },
  {
   "cell_type": "code",
   "execution_count": null,
   "metadata": {},
   "outputs": [],
   "source": []
  }
 ],
 "metadata": {
  "kernelspec": {
   "display_name": "Python 3",
   "language": "python",
   "name": "python3"
  },
  "language_info": {
   "codemirror_mode": {
    "name": "ipython",
    "version": 3
   },
   "file_extension": ".py",
   "mimetype": "text/x-python",
   "name": "python",
   "nbconvert_exporter": "python",
   "pygments_lexer": "ipython3",
   "version": "3.8.5"
  }
 },
 "nbformat": 4,
 "nbformat_minor": 2
}
